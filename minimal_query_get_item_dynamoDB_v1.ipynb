{
  "nbformat": 4,
  "nbformat_minor": 0,
  "metadata": {
    "colab": {
      "name": "minimal_query_get_item_dynamoDB_v1.ipynb",
      "provenance": [],
      "collapsed_sections": []
    },
    "kernelspec": {
      "name": "python3",
      "display_name": "Python 3"
    },
    "language_info": {
      "name": "python"
    }
  },
  "cells": [
    {
      "cell_type": "code",
      "execution_count": null,
      "metadata": {
        "id": "FS743mnmiw5b"
      },
      "outputs": [],
      "source": [
        "#########################################\n",
        "# Minimal dynamoDB query with \"get_item\"\n",
        "#########################################\n",
        "\n",
        "import boto3\n",
        "\n",
        "def lambda_handler(event, context):\n",
        "\n",
        "    # connect to dynamoDB\n",
        "    dynamodb = boto3.resource('dynamodb')\n",
        "\n",
        "    # select table\n",
        "    table = dynamodb.Table(\"S3_TABLE_NAME\")\n",
        "\n",
        "    # serach for this\n",
        "    search_for_this = 10\n",
        "\n",
        "    # get pull whole row (\"item\" in AWS) (look for unique key/field/column/X)\n",
        "    # (note inconsistent capitalization \"I,i\" by AWS)\n",
        "    items = table.get_item(Key={\"UNIQUE_SEARCH_FIELD\": search_for_this})\n",
        "\n",
        "    # drill into json dictionary (note inconsistent capitalization \"I,i\" by AWS)\n",
        "    items = items[\"Item\"]\n",
        "\n",
        "    # get specific field/column/X/key\n",
        "    output = items[\"SPECIFIC_COLUMN_NAME\"]\n",
        "\n",
        "    return {\n",
        "    'statusCode': 200,\n",
        "    'body': str( output )\n",
        "    }"
      ]
    }
  ]
}